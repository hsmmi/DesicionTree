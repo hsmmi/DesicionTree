{
 "cells": [
  {
   "attachments": {},
   "cell_type": "markdown",
   "metadata": {},
   "source": [
    "# Assignment #4 : Decision Tree & Ensemble Algorithms\n",
    "\n",
    "## STD IDs: 9931155 & 40133693"
   ]
  },
  {
   "cell_type": "code",
   "execution_count": 4,
   "metadata": {},
   "outputs": [],
   "source": [
    "import numpy as np\n",
    "from sklearn.model_selection import train_test_split\n",
    "from tabulate import tabulate\n",
    "from DesicionTree import DT, preprocess\n",
    "\n",
    "DS_path=\"Dataset/Covid19HDDT.csv\"\n",
    "\n",
    "max_depth=[2, 3, 4, 5]\n",
    "cut_off=[10, 50, 500]\n",
    "n_iteration=10\n",
    "\n",
    "data, label = preprocess.read_dataset(DS_path)\n"
   ]
  },
  {
   "attachments": {},
   "cell_type": "markdown",
   "metadata": {},
   "source": [
    "## Part A (Decision Tree):  Dataset: Covid19HDDT.csv"
   ]
  },
  {
   "attachments": {},
   "cell_type": "markdown",
   "metadata": {},
   "source": [
    "### Step 1:\n",
    "\n",
    "#### Convert the data to a two-class data set by keeping the smallest class as minority and the rest as majority "
   ]
  },
  {
   "cell_type": "code",
   "execution_count": 2,
   "metadata": {},
   "outputs": [
    {
     "name": "stdout",
     "output_type": "stream",
     "text": [
      "{'Precision': 0.92412, 'Recall': 0.92412, 'F-measure': 0.92412, 'AUC': 0.53514, 'G-mean': 0.92412}\n"
     ]
    }
   ],
   "source": [
    "data, label = preprocess.read_dataset(DS_path)\n",
    "\n",
    "label_minority_majority = preprocess.minority_0_majority_1(label)\n",
    "data = preprocess.remove_correlated_with_label_by_hellinger(\n",
    "    data=data, label=label_minority_majority, threshold=0.3\n",
    ")\n",
    "\n",
    "acc = DT.run_HDDT(\n",
    "    data,\n",
    "    label_minority_majority,\n",
    "    n_iteration=n_iteration,\n",
    ")\n",
    "\n",
    "print(acc)\n"
   ]
  },
  {
   "attachments": {},
   "cell_type": "markdown",
   "metadata": {},
   "source": [
    "#### Handle the multiclass data with OVO (One Versus One) "
   ]
  },
  {
   "cell_type": "code",
   "execution_count": 2,
   "metadata": {},
   "outputs": [
    {
     "name": "stderr",
     "output_type": "stream",
     "text": [
      "/Users/hesoyam/Documents/University/Machine Learning/2023/Homeworks/DesicionTree/DesicionTree.py:42: RuntimeWarning: invalid value encountered in sqrt\n",
      "  - np.sqrt(n_value_negative_label / n_negative_label)\n"
     ]
    },
    {
     "name": "stdout",
     "output_type": "stream",
     "text": [
      "{'Precision': 0.96442, 'Recall': 0.96442, 'F-measure': 0.96442, 'G-mean': 0.96442}\n"
     ]
    }
   ],
   "source": [
    "data, label = preprocess.read_dataset(DS_path)\n",
    "data = preprocess.remove_correlated_with_label_by_hellinger(\n",
    "    data=data, label=label, threshold=0.3\n",
    ")\n",
    "\n",
    "\n",
    "acc = DT.OVO(\n",
    "    data,\n",
    "    label,\n",
    "    n_iteration=n_iteration,\n",
    ")\n",
    "\n",
    "print(acc)"
   ]
  },
  {
   "attachments": {},
   "cell_type": "markdown",
   "metadata": {},
   "source": [
    "#### Handle the multiclass data with OVA (One Versus All)"
   ]
  },
  {
   "cell_type": "code",
   "execution_count": 2,
   "metadata": {},
   "outputs": [
    {
     "name": "stderr",
     "output_type": "stream",
     "text": [
      "/Users/hesoyam/Documents/University/Machine Learning/2023/Homeworks/DesicionTree/DesicionTree.py:42: RuntimeWarning: invalid value encountered in sqrt\n",
      "  - np.sqrt(n_value_negative_label / n_negative_label)\n"
     ]
    },
    {
     "name": "stdout",
     "output_type": "stream",
     "text": [
      "{'Precision': 0.9641, 'Recall': 0.9641, 'F-measure': 0.9641, 'G-mean': 0.9641}\n"
     ]
    }
   ],
   "source": [
    "data, label = preprocess.read_dataset(DS_path)\n",
    "data = preprocess.remove_correlated_with_label_by_hellinger(\n",
    "    data=data, label=label, threshold=0.3\n",
    ")\n",
    "\n",
    "\n",
    "acc = DT.OVA(\n",
    "    data,\n",
    "    label,\n",
    "    n_iteration=n_iteration,\n",
    ")\n",
    "\n",
    "print(acc)"
   ]
  },
  {
   "attachments": {},
   "cell_type": "markdown",
   "metadata": {},
   "source": [
    "### Step 2:\n",
    "\n",
    "#### Repeat  both  of  the  experiments  in  previous  parts  with  the  pruned  HDDT  trees. "
   ]
  },
  {
   "cell_type": "code",
   "execution_count": 3,
   "metadata": {},
   "outputs": [
    {
     "name": "stderr",
     "output_type": "stream",
     "text": [
      "/Users/hesoyam/Documents/University/Machine Learning/2023/Homeworks/DesicionTree/DesicionTree.py:43: RuntimeWarning: invalid value encountered in sqrt\n",
      "  - np.sqrt(n_value_negative_label / n_negative_label)\n"
     ]
    },
    {
     "name": "stdout",
     "output_type": "stream",
     "text": [
      "Precision\n",
      "╒════╤═════════╤═════════╤═════════╕\n",
      "│    │      10 │      50 │     500 │\n",
      "╞════╪═════════╪═════════╪═════════╡\n",
      "│  2 │ 0.96851 │ 0.96952 │ 0.96897 │\n",
      "├────┼─────────┼─────────┼─────────┤\n",
      "│  3 │ 0.9674  │ 0.96663 │ 0.96621 │\n",
      "├────┼─────────┼─────────┼─────────┤\n",
      "│  4 │ 0.96498 │ 0.96535 │ 0.9653  │\n",
      "├────┼─────────┼─────────┼─────────┤\n",
      "│  5 │ 0.9654  │ 0.96451 │ 0.96508 │\n",
      "╘════╧═════════╧═════════╧═════════╛\n",
      "\n",
      "Recall\n",
      "╒════╤═════════╤═════════╤═════════╕\n",
      "│    │      10 │      50 │     500 │\n",
      "╞════╪═════════╪═════════╪═════════╡\n",
      "│  2 │ 0.96851 │ 0.96952 │ 0.96897 │\n",
      "├────┼─────────┼─────────┼─────────┤\n",
      "│  3 │ 0.9674  │ 0.96663 │ 0.96621 │\n",
      "├────┼─────────┼─────────┼─────────┤\n",
      "│  4 │ 0.96498 │ 0.96535 │ 0.9653  │\n",
      "├────┼─────────┼─────────┼─────────┤\n",
      "│  5 │ 0.9654  │ 0.96451 │ 0.96508 │\n",
      "╘════╧═════════╧═════════╧═════════╛\n",
      "\n",
      "F-measure\n",
      "╒════╤═════════╤═════════╤═════════╕\n",
      "│    │      10 │      50 │     500 │\n",
      "╞════╪═════════╪═════════╪═════════╡\n",
      "│  2 │ 0.96851 │ 0.96952 │ 0.96897 │\n",
      "├────┼─────────┼─────────┼─────────┤\n",
      "│  3 │ 0.9674  │ 0.96663 │ 0.96621 │\n",
      "├────┼─────────┼─────────┼─────────┤\n",
      "│  4 │ 0.96498 │ 0.96535 │ 0.9653  │\n",
      "├────┼─────────┼─────────┼─────────┤\n",
      "│  5 │ 0.9654  │ 0.96451 │ 0.96508 │\n",
      "╘════╧═════════╧═════════╧═════════╛\n",
      "\n",
      "G-mean\n",
      "╒════╤═════════╤═════════╤═════════╕\n",
      "│    │      10 │      50 │     500 │\n",
      "╞════╪═════════╪═════════╪═════════╡\n",
      "│  2 │ 0.96851 │ 0.96952 │ 0.96897 │\n",
      "├────┼─────────┼─────────┼─────────┤\n",
      "│  3 │ 0.9674  │ 0.96663 │ 0.96621 │\n",
      "├────┼─────────┼─────────┼─────────┤\n",
      "│  4 │ 0.96498 │ 0.96535 │ 0.9653  │\n",
      "├────┼─────────┼─────────┼─────────┤\n",
      "│  5 │ 0.9654  │ 0.96451 │ 0.96508 │\n",
      "╘════╧═════════╧═════════╧═════════╛\n"
     ]
    }
   ],
   "source": [
    "data, label = preprocess.read_dataset(DS_path)\n",
    "data = preprocess.remove_correlated_with_label_by_hellinger(\n",
    "    data=data, label=label, threshold=0.3\n",
    ")\n",
    "\n",
    "acc_metrics_precision = np.empty((4, 3))\n",
    "acc_metrics_recall = np.empty((4, 3))\n",
    "acc_metrics_fmeasure = np.empty((4, 3))\n",
    "acc_metrics_gmean = np.empty((4, 3))\n",
    "\n",
    "for i in range(len(max_depth)):\n",
    "    for j in range(len(cut_off)):\n",
    "        acc_metrics = DT.OVA(\n",
    "            data=data,\n",
    "            label=label,\n",
    "            n_iteration=n_iteration,\n",
    "            max_depth=max_depth[i],\n",
    "            cut_off=cut_off[j],\n",
    "        )\n",
    "        acc_metrics_precision[i, j] = acc_metrics[\"Precision\"]\n",
    "        acc_metrics_recall[i, j] = acc_metrics[\"Recall\"]\n",
    "        acc_metrics_fmeasure[i, j] = acc_metrics[\"F-measure\"]\n",
    "        acc_metrics_gmean[i, j] = acc_metrics[\"G-mean\"]\n",
    "\n",
    "# Print table of result using tabulate\n",
    "print(\"Precision\")\n",
    "print(\n",
    "    tabulate(\n",
    "        acc_metrics_precision,\n",
    "        headers=cut_off,\n",
    "        showindex=max_depth,\n",
    "        tablefmt=\"fancy_grid\",\n",
    "    )\n",
    ")\n",
    "\n",
    "print(\"\\nRecall\")\n",
    "print(\n",
    "    tabulate(\n",
    "        acc_metrics_recall,\n",
    "        headers=cut_off,\n",
    "        showindex=max_depth,\n",
    "        tablefmt=\"fancy_grid\",\n",
    "    )\n",
    ")\n",
    "\n",
    "print(\"\\nF-measure\")\n",
    "print(\n",
    "    tabulate(\n",
    "        acc_metrics_fmeasure,\n",
    "        headers=cut_off,\n",
    "        showindex=max_depth,\n",
    "        tablefmt=\"fancy_grid\",\n",
    "    )\n",
    ")\n",
    "\n",
    "print(\"\\nG-mean\")\n",
    "print(\n",
    "    tabulate(\n",
    "        acc_metrics_gmean,\n",
    "        headers=cut_off,\n",
    "        showindex=max_depth,\n",
    "        tablefmt=\"fancy_grid\",\n",
    "    )\n",
    ")\n"
   ]
  },
  {
   "cell_type": "markdown",
   "metadata": {},
   "source": []
  },
  {
   "attachments": {},
   "cell_type": "markdown",
   "metadata": {},
   "source": [
    "Run the HDDT algorithm for each max_depth and cut_off size and print accuracy table for each of them"
   ]
  },
  {
   "cell_type": "code",
   "execution_count": 1,
   "metadata": {},
   "outputs": [
    {
     "ename": "NameError",
     "evalue": "name 'preprocess' is not defined",
     "output_type": "error",
     "traceback": [
      "\u001b[0;31m---------------------------------------------------------------------------\u001b[0m",
      "\u001b[0;31mNameError\u001b[0m                                 Traceback (most recent call last)",
      "Cell \u001b[0;32mIn[1], line 1\u001b[0m\n\u001b[0;32m----> 1\u001b[0m label_minority_majority \u001b[39m=\u001b[39m preprocess\u001b[39m.\u001b[39mminority_0_majority_1(label)\n\u001b[1;32m      3\u001b[0m \u001b[39mfor\u001b[39;00m depth \u001b[39min\u001b[39;00m max_depth:\n\u001b[1;32m      4\u001b[0m     \u001b[39mfor\u001b[39;00m cut \u001b[39min\u001b[39;00m cut_off:\n",
      "\u001b[0;31mNameError\u001b[0m: name 'preprocess' is not defined"
     ]
    }
   ],
   "source": [
    "label_minority_majority = preprocess.minority_0_majority_1(label)\n",
    "\n",
    "for depth in max_depth:\n",
    "    for cut in cut_off:\n",
    "        print(f\"max_depth: {depth}, cut_off: {cut}\\n\")\n",
    "        DT.run_HDDT(\n",
    "            data,\n",
    "            label_minority_majority,\n",
    "            n_iteration=n_iteration,\n",
    "            max_depth=depth,\n",
    "            cut_off=cut,\n",
    "        )\n",
    "        print(f\"{'='*50}\")\n",
    "\n",
    "print(f\"max_depth: None, cut_off: None\\n\")\n",
    "DT.run_HDDT(\n",
    "    data,\n",
    "    label_minority_majority,\n",
    "    n_iteration=n_iteration,\n",
    ")\n"
   ]
  },
  {
   "cell_type": "code",
   "execution_count": 7,
   "metadata": {},
   "outputs": [
    {
     "name": "stdout",
     "output_type": "stream",
     "text": [
      "OVO 0 vs 1:\n",
      "avg Precision: 0.9165\n",
      "avg Recall: 0.9165\n",
      "avg F-measure: 0.9165\n",
      "avg AUC: 0.9002\n",
      "avg G-mean: 0.9165\n",
      "==================================================\n",
      "OVO 0 vs 2:\n",
      "avg Precision: 1.0\n",
      "avg Recall: 1.0\n",
      "avg F-measure: 1.0\n",
      "avg AUC: 1.0\n",
      "avg G-mean: 1.0\n",
      "==================================================\n",
      "OVO 1 vs 2:\n",
      "avg Precision: 1.0\n",
      "avg Recall: 1.0\n",
      "avg F-measure: 1.0\n",
      "avg AUC: 1.0\n",
      "avg G-mean: 1.0\n",
      "==================================================\n",
      "OVA 0:\n"
     ]
    },
    {
     "ename": "TypeError",
     "evalue": "OVA() got an unexpected keyword argument 'data'",
     "output_type": "error",
     "traceback": [
      "\u001b[0;31m---------------------------------------------------------------------------\u001b[0m",
      "\u001b[0;31mTypeError\u001b[0m                                 Traceback (most recent call last)",
      "Cell \u001b[0;32mIn[7], line 22\u001b[0m\n\u001b[1;32m     20\u001b[0m \u001b[39mfor\u001b[39;00m i \u001b[39min\u001b[39;00m \u001b[39mrange\u001b[39m(\u001b[39mlen\u001b[39m(classes)):\n\u001b[1;32m     21\u001b[0m     \u001b[39mprint\u001b[39m(\u001b[39mf\u001b[39m\u001b[39m\"\u001b[39m\u001b[39mOVA \u001b[39m\u001b[39m{\u001b[39;00mclasses[i]\u001b[39m}\u001b[39;00m\u001b[39m:\u001b[39m\u001b[39m\"\u001b[39m)\n\u001b[0;32m---> 22\u001b[0m     OVA_label \u001b[39m=\u001b[39m preprocess\u001b[39m.\u001b[39;49mOVA(\n\u001b[1;32m     23\u001b[0m         data\u001b[39m=\u001b[39;49mdata, label\u001b[39m=\u001b[39;49mlabel, l1\u001b[39m=\u001b[39;49mclasses[i]\n\u001b[1;32m     24\u001b[0m     )\n\u001b[1;32m     25\u001b[0m     run_HDDT(\n\u001b[1;32m     26\u001b[0m         data\u001b[39m=\u001b[39mdata,\n\u001b[1;32m     27\u001b[0m         label\u001b[39m=\u001b[39mOVA_label,\n\u001b[1;32m     28\u001b[0m         n_iteration\u001b[39m=\u001b[39mn_iteration,\n\u001b[1;32m     29\u001b[0m     )\n\u001b[1;32m     30\u001b[0m     \u001b[39mprint\u001b[39m(\u001b[39mf\u001b[39m\u001b[39m\"\u001b[39m\u001b[39m{\u001b[39;00m\u001b[39m'\u001b[39m\u001b[39m=\u001b[39m\u001b[39m'\u001b[39m\u001b[39m*\u001b[39m\u001b[39m50\u001b[39m\u001b[39m}\u001b[39;00m\u001b[39m\"\u001b[39m)\n",
      "\u001b[0;31mTypeError\u001b[0m: OVA() got an unexpected keyword argument 'data'"
     ]
    }
   ],
   "source": [
    "classes = [0, 1, 2]\n",
    "\n",
    "\n",
    "# Run OVO\n",
    "for i in range(len(classes)):\n",
    "    for j in range(i + 1, len(classes)):\n",
    "        print(f\"OVO {classes[i]} vs {classes[j]}:\")\n",
    "        OVO_data, OVO_label = preprocess.OVO(\n",
    "            data=data, label=label, l1=classes[i], l2=classes[j]\n",
    "        )\n",
    "        run_HDDT(\n",
    "            data=OVO_data,\n",
    "            label=OVO_label,\n",
    "            n_iteration=n_iteration,\n",
    "        )\n",
    "        print(f\"{'='*50}\")\n",
    "\n",
    "\n",
    "# Run OVA\n",
    "for i in range(len(classes)):\n",
    "    print(f\"OVA {classes[i]}:\")\n",
    "    OVA_label = preprocess.OVA(\n",
    "        data=data, label=label, l1=classes[i]\n",
    "    )\n",
    "    run_HDDT(\n",
    "        data=data,\n",
    "        label=OVA_label,\n",
    "        n_iteration=n_iteration,\n",
    "    )\n",
    "    print(f\"{'='*50}\")\n"
   ]
  }
 ],
 "metadata": {
  "kernelspec": {
   "display_name": "venv",
   "language": "python",
   "name": "python3"
  },
  "language_info": {
   "codemirror_mode": {
    "name": "ipython",
    "version": 3
   },
   "file_extension": ".py",
   "mimetype": "text/x-python",
   "name": "python",
   "nbconvert_exporter": "python",
   "pygments_lexer": "ipython3",
   "version": "3.9.6"
  },
  "orig_nbformat": 4
 },
 "nbformat": 4,
 "nbformat_minor": 2
}
