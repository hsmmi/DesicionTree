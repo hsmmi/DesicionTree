{
 "cells": [
  {
   "attachments": {},
   "cell_type": "markdown",
   "metadata": {},
   "source": [
    "# Assignment #4 : Decision Tree & Ensemble Algorithms\n",
    "\n",
    "## STD IDs: 9931155 & 40133693"
   ]
  },
  {
   "cell_type": "code",
   "execution_count": 8,
   "metadata": {},
   "outputs": [],
   "source": [
    "import numpy as np\n",
    "from sklearn.model_selection import train_test_split\n",
    "from tabulate import tabulate\n",
    "from DesicionTree import HDDT, preprocess, bagging, adaboost\n",
    "from sklearn.tree import DecisionTreeClassifier\n",
    "from sklearn.ensemble import AdaBoostClassifier\n",
    "\n",
    "DS_Covid19HDDT=\"Dataset/Covid19HDDT.csv\"\n",
    "DS_Covid= \"Dataset/Covid.csv\"\n",
    "\n",
    "max_depth=[2, 3, 4, 5]\n",
    "cut_off=[10, 50, 500]\n",
    "n_iteration=10\n",
    "\n"
   ]
  },
  {
   "attachments": {},
   "cell_type": "markdown",
   "metadata": {},
   "source": [
    "## Part A (Decision Tree):  Dataset: Covid19HDDT.csv"
   ]
  },
  {
   "attachments": {},
   "cell_type": "markdown",
   "metadata": {},
   "source": [
    "### Step 1:\n",
    "\n",
    "#### Convert the data to a two-class data set by keeping the smallest class as minority and the rest as majority "
   ]
  },
  {
   "cell_type": "code",
   "execution_count": 4,
   "metadata": {},
   "outputs": [
    {
     "name": "stdout",
     "output_type": "stream",
     "text": [
      "{'Precision': 0.90583, 'Recall': 0.89103, 'F-measure': 0.8983, 'G-mean': 0.89836}\n"
     ]
    }
   ],
   "source": [
    "data, label = preprocess.read_dataset(DS_Covid19HDDT)\n",
    "\n",
    "label_minority_majority = preprocess.minority_0_majority_1(label)\n",
    "data = preprocess.remove_correlated_with_label_by_hellinger(\n",
    "    data=data, label=label_minority_majority, threshold=1\n",
    ")\n",
    "\n",
    "acc = HDDT.run_HDDT(\n",
    "    data,\n",
    "    label_minority_majority,\n",
    "    n_iteration=n_iteration,\n",
    ")\n",
    "\n",
    "print(acc)\n"
   ]
  },
  {
   "attachments": {},
   "cell_type": "markdown",
   "metadata": {},
   "source": [
    "#### Handle the multiclass data with OVO (One Versus One) "
   ]
  },
  {
   "cell_type": "code",
   "execution_count": 3,
   "metadata": {},
   "outputs": [
    {
     "name": "stderr",
     "output_type": "stream",
     "text": [
      "/Users/hesoyam/Documents/University/Machine Learning/2023/Homeworks/DesicionTree/DesicionTree.py:44: RuntimeWarning: invalid value encountered in sqrt\n",
      "  - np.sqrt(n_value_negative_label / n_negative_label)\n"
     ]
    },
    {
     "name": "stdout",
     "output_type": "stream",
     "text": [
      "{'Precision': 1.0, 'Recall': 1.0, 'F-measure': 1.0, 'G-mean': 1.0}\n"
     ]
    }
   ],
   "source": [
    "data, label = preprocess.read_dataset(DS_Covid19HDDT)\n",
    "data = preprocess.remove_correlated_with_label_by_hellinger(\n",
    "    data=data, label=label, threshold=1\n",
    ")\n",
    "\n",
    "\n",
    "acc = HDDT.OVO(\n",
    "    data,\n",
    "    label,\n",
    "    n_iteration=n_iteration,\n",
    ")\n",
    "\n",
    "print(acc)"
   ]
  },
  {
   "attachments": {},
   "cell_type": "markdown",
   "metadata": {},
   "source": [
    "#### Handle the multiclass data with OVA (One Versus All)"
   ]
  },
  {
   "cell_type": "code",
   "execution_count": 4,
   "metadata": {},
   "outputs": [
    {
     "name": "stderr",
     "output_type": "stream",
     "text": [
      "/Users/hesoyam/Documents/University/Machine Learning/2023/Homeworks/DesicionTree/DesicionTree.py:44: RuntimeWarning: invalid value encountered in sqrt\n",
      "  - np.sqrt(n_value_negative_label / n_negative_label)\n"
     ]
    },
    {
     "name": "stdout",
     "output_type": "stream",
     "text": [
      "{'Precision': 1.0, 'Recall': 1.0, 'F-measure': 1.0, 'G-mean': 1.0}\n"
     ]
    }
   ],
   "source": [
    "data, label = preprocess.read_dataset(DS_Covid19HDDT)\n",
    "data = preprocess.remove_correlated_with_label_by_hellinger(\n",
    "    data=data, label=label, threshold=1\n",
    ")\n",
    "\n",
    "\n",
    "acc = HDDT.OVA(\n",
    "    data,\n",
    "    label,\n",
    "    n_iteration=n_iteration,\n",
    ")\n",
    "\n",
    "print(acc)"
   ]
  },
  {
   "attachments": {},
   "cell_type": "markdown",
   "metadata": {},
   "source": [
    "### Step 2:\n",
    "\n",
    "#### Repeat  both  of  the  experiments  in  previous  parts  with  the  pruned  HDDT  trees. "
   ]
  },
  {
   "cell_type": "code",
   "execution_count": 5,
   "metadata": {},
   "outputs": [
    {
     "name": "stderr",
     "output_type": "stream",
     "text": [
      "/Users/hesoyam/Documents/University/Machine Learning/2023/Homeworks/DesicionTree/DesicionTree.py:44: RuntimeWarning: invalid value encountered in sqrt\n",
      "  - np.sqrt(n_value_negative_label / n_negative_label)\n"
     ]
    },
    {
     "name": "stdout",
     "output_type": "stream",
     "text": [
      "Precision\n",
      "╒════╤══════╤══════╤═══════╕\n",
      "│    │   10 │   50 │   500 │\n",
      "╞════╪══════╪══════╪═══════╡\n",
      "│  2 │    1 │    1 │     1 │\n",
      "├────┼──────┼──────┼───────┤\n",
      "│  3 │    1 │    1 │     1 │\n",
      "├────┼──────┼──────┼───────┤\n",
      "│  4 │    1 │    1 │     1 │\n",
      "├────┼──────┼──────┼───────┤\n",
      "│  5 │    1 │    1 │     1 │\n",
      "╘════╧══════╧══════╧═══════╛\n",
      "\n",
      "Recall\n",
      "╒════╤══════╤══════╤═══════╕\n",
      "│    │   10 │   50 │   500 │\n",
      "╞════╪══════╪══════╪═══════╡\n",
      "│  2 │    1 │    1 │     1 │\n",
      "├────┼──────┼──────┼───────┤\n",
      "│  3 │    1 │    1 │     1 │\n",
      "├────┼──────┼──────┼───────┤\n",
      "│  4 │    1 │    1 │     1 │\n",
      "├────┼──────┼──────┼───────┤\n",
      "│  5 │    1 │    1 │     1 │\n",
      "╘════╧══════╧══════╧═══════╛\n",
      "\n",
      "F-measure\n",
      "╒════╤══════╤══════╤═══════╕\n",
      "│    │   10 │   50 │   500 │\n",
      "╞════╪══════╪══════╪═══════╡\n",
      "│  2 │    1 │    1 │     1 │\n",
      "├────┼──────┼──────┼───────┤\n",
      "│  3 │    1 │    1 │     1 │\n",
      "├────┼──────┼──────┼───────┤\n",
      "│  4 │    1 │    1 │     1 │\n",
      "├────┼──────┼──────┼───────┤\n",
      "│  5 │    1 │    1 │     1 │\n",
      "╘════╧══════╧══════╧═══════╛\n",
      "\n",
      "G-mean\n",
      "╒════╤══════╤══════╤═══════╕\n",
      "│    │   10 │   50 │   500 │\n",
      "╞════╪══════╪══════╪═══════╡\n",
      "│  2 │    1 │    1 │     1 │\n",
      "├────┼──────┼──────┼───────┤\n",
      "│  3 │    1 │    1 │     1 │\n",
      "├────┼──────┼──────┼───────┤\n",
      "│  4 │    1 │    1 │     1 │\n",
      "├────┼──────┼──────┼───────┤\n",
      "│  5 │    1 │    1 │     1 │\n",
      "╘════╧══════╧══════╧═══════╛\n"
     ]
    }
   ],
   "source": [
    "data, label = preprocess.read_dataset(DS_Covid19HDDT)\n",
    "data = preprocess.remove_correlated_with_label_by_hellinger(\n",
    "    data=data, label=label, threshold=1\n",
    ")\n",
    "\n",
    "acc_metrics_precision = np.empty((len(max_depth), len(cut_off)))\n",
    "acc_metrics_recall = np.empty((len(max_depth), len(cut_off)))\n",
    "acc_metrics_fmeasure = np.empty((len(max_depth), len(cut_off)))\n",
    "acc_metrics_gmean = np.empty((len(max_depth), len(cut_off)))\n",
    "\n",
    "for i in range(len(max_depth)):\n",
    "    for j in range(len(cut_off)):\n",
    "        acc_metrics = HDDT.OVA(\n",
    "            data=data,\n",
    "            label=label,\n",
    "            n_iteration=n_iteration,\n",
    "            max_depth=max_depth[i],\n",
    "            cut_off=cut_off[j],\n",
    "        )\n",
    "        acc_metrics_precision[i, j] = acc_metrics[\"Precision\"]\n",
    "        acc_metrics_recall[i, j] = acc_metrics[\"Recall\"]\n",
    "        acc_metrics_fmeasure[i, j] = acc_metrics[\"F-measure\"]\n",
    "        acc_metrics_gmean[i, j] = acc_metrics[\"G-mean\"]\n",
    "\n",
    "# Print table of result using tabulate\n",
    "print(\"Precision\")\n",
    "print(\n",
    "    tabulate(\n",
    "        acc_metrics_precision,\n",
    "        headers=cut_off,\n",
    "        showindex=max_depth,\n",
    "        tablefmt=\"fancy_grid\",\n",
    "    )\n",
    ")\n",
    "\n",
    "print(\"\\nRecall\")\n",
    "print(\n",
    "    tabulate(\n",
    "        acc_metrics_recall,\n",
    "        headers=cut_off,\n",
    "        showindex=max_depth,\n",
    "        tablefmt=\"fancy_grid\",\n",
    "    )\n",
    ")\n",
    "\n",
    "print(\"\\nF-measure\")\n",
    "print(\n",
    "    tabulate(\n",
    "        acc_metrics_fmeasure,\n",
    "        headers=cut_off,\n",
    "        showindex=max_depth,\n",
    "        tablefmt=\"fancy_grid\",\n",
    "    )\n",
    ")\n",
    "\n",
    "print(\"\\nG-mean\")\n",
    "print(\n",
    "    tabulate(\n",
    "        acc_metrics_gmean,\n",
    "        headers=cut_off,\n",
    "        showindex=max_depth,\n",
    "        tablefmt=\"fancy_grid\",\n",
    "    )\n",
    ")\n"
   ]
  },
  {
   "attachments": {},
   "cell_type": "markdown",
   "metadata": {},
   "source": [
    "## Part B (Ensemble Learning): Dataset: Covid.csv\n",
    "\n",
    "####  implement a bootstrap ensemble algorithm which is Bagging for imbalanced data.\n",
    "\n",
    "With HDDT base learner"
   ]
  },
  {
   "cell_type": "code",
   "execution_count": 6,
   "metadata": {},
   "outputs": [
    {
     "name": "stdout",
     "output_type": "stream",
     "text": [
      "bagging with base learner HDDT\n"
     ]
    },
    {
     "name": "stderr",
     "output_type": "stream",
     "text": [
      "/Users/hesoyam/Documents/University/Machine Learning/2023/Homeworks/DesicionTree/venv/lib/python3.9/site-packages/sklearn/metrics/_classification.py:1344: UndefinedMetricWarning: Precision is ill-defined and being set to 0.0 in labels with no predicted samples. Use `zero_division` parameter to control this behavior.\n",
      "  _warn_prf(average, modifier, msg_start, len(result))\n",
      "/Users/hesoyam/Documents/University/Machine Learning/2023/Homeworks/DesicionTree/venv/lib/python3.9/site-packages/sklearn/metrics/_classification.py:1344: UndefinedMetricWarning: Precision is ill-defined and being set to 0.0 in labels with no predicted samples. Use `zero_division` parameter to control this behavior.\n",
      "  _warn_prf(average, modifier, msg_start, len(result))\n",
      "/Users/hesoyam/Documents/University/Machine Learning/2023/Homeworks/DesicionTree/venv/lib/python3.9/site-packages/sklearn/metrics/_classification.py:1344: UndefinedMetricWarning: Precision is ill-defined and being set to 0.0 in labels with no predicted samples. Use `zero_division` parameter to control this behavior.\n",
      "  _warn_prf(average, modifier, msg_start, len(result))\n",
      "/Users/hesoyam/Documents/University/Machine Learning/2023/Homeworks/DesicionTree/venv/lib/python3.9/site-packages/sklearn/metrics/_classification.py:1344: UndefinedMetricWarning: Precision is ill-defined and being set to 0.0 in labels with no predicted samples. Use `zero_division` parameter to control this behavior.\n",
      "  _warn_prf(average, modifier, msg_start, len(result))\n",
      "/Users/hesoyam/Documents/University/Machine Learning/2023/Homeworks/DesicionTree/venv/lib/python3.9/site-packages/sklearn/metrics/_classification.py:1344: UndefinedMetricWarning: Precision is ill-defined and being set to 0.0 in labels with no predicted samples. Use `zero_division` parameter to control this behavior.\n",
      "  _warn_prf(average, modifier, msg_start, len(result))\n",
      "/Users/hesoyam/Documents/University/Machine Learning/2023/Homeworks/DesicionTree/venv/lib/python3.9/site-packages/sklearn/metrics/_classification.py:1344: UndefinedMetricWarning: Precision is ill-defined and being set to 0.0 in labels with no predicted samples. Use `zero_division` parameter to control this behavior.\n",
      "  _warn_prf(average, modifier, msg_start, len(result))\n",
      "/Users/hesoyam/Documents/University/Machine Learning/2023/Homeworks/DesicionTree/venv/lib/python3.9/site-packages/sklearn/metrics/_classification.py:1344: UndefinedMetricWarning: Precision is ill-defined and being set to 0.0 in labels with no predicted samples. Use `zero_division` parameter to control this behavior.\n",
      "  _warn_prf(average, modifier, msg_start, len(result))\n",
      "/Users/hesoyam/Documents/University/Machine Learning/2023/Homeworks/DesicionTree/venv/lib/python3.9/site-packages/sklearn/metrics/_classification.py:1344: UndefinedMetricWarning: Precision is ill-defined and being set to 0.0 in labels with no predicted samples. Use `zero_division` parameter to control this behavior.\n",
      "  _warn_prf(average, modifier, msg_start, len(result))\n",
      "/Users/hesoyam/Documents/University/Machine Learning/2023/Homeworks/DesicionTree/venv/lib/python3.9/site-packages/sklearn/metrics/_classification.py:1344: UndefinedMetricWarning: Precision is ill-defined and being set to 0.0 in labels with no predicted samples. Use `zero_division` parameter to control this behavior.\n",
      "  _warn_prf(average, modifier, msg_start, len(result))\n",
      "/Users/hesoyam/Documents/University/Machine Learning/2023/Homeworks/DesicionTree/venv/lib/python3.9/site-packages/sklearn/metrics/_classification.py:1344: UndefinedMetricWarning: Precision is ill-defined and being set to 0.0 in labels with no predicted samples. Use `zero_division` parameter to control this behavior.\n",
      "  _warn_prf(average, modifier, msg_start, len(result))\n",
      "/Users/hesoyam/Documents/University/Machine Learning/2023/Homeworks/DesicionTree/venv/lib/python3.9/site-packages/sklearn/metrics/_classification.py:1344: UndefinedMetricWarning: Precision is ill-defined and being set to 0.0 in labels with no predicted samples. Use `zero_division` parameter to control this behavior.\n",
      "  _warn_prf(average, modifier, msg_start, len(result))\n",
      "/Users/hesoyam/Documents/University/Machine Learning/2023/Homeworks/DesicionTree/venv/lib/python3.9/site-packages/sklearn/metrics/_classification.py:1344: UndefinedMetricWarning: Precision is ill-defined and being set to 0.0 in labels with no predicted samples. Use `zero_division` parameter to control this behavior.\n",
      "  _warn_prf(average, modifier, msg_start, len(result))\n",
      "/Users/hesoyam/Documents/University/Machine Learning/2023/Homeworks/DesicionTree/venv/lib/python3.9/site-packages/sklearn/metrics/_classification.py:1344: UndefinedMetricWarning: Precision is ill-defined and being set to 0.0 in labels with no predicted samples. Use `zero_division` parameter to control this behavior.\n",
      "  _warn_prf(average, modifier, msg_start, len(result))\n"
     ]
    },
    {
     "name": "stdout",
     "output_type": "stream",
     "text": [
      "Average metrics\n",
      "╒═════╤═════════════╤══════════╤═════════════╤══════════╕\n",
      "│     │   Precision │   Recall │   F-measure │   G-mean │\n",
      "╞═════╪═════════════╪══════════╪═════════════╪══════════╡\n",
      "│  11 │     0.51858 │  0.50155 │     0.50271 │  0.5063  │\n",
      "├─────┼─────────────┼──────────┼─────────────┼──────────┤\n",
      "│  31 │     0.77522 │  0.5291  │     0.62191 │  0.63678 │\n",
      "├─────┼─────────────┼──────────┼─────────────┼──────────┤\n",
      "│  51 │     0.81984 │  0.52277 │     0.63244 │  0.65148 │\n",
      "├─────┼─────────────┼──────────┼─────────────┼──────────┤\n",
      "│ 101 │     0.72778 │  0.51611 │     0.59408 │  0.60774 │\n",
      "╘═════╧═════════════╧══════════╧═════════════╧══════════╛\n",
      "Standard deviation metrics\n",
      "╒═════╤═════════════╤══════════╤═════════════╤══════════╕\n",
      "│     │   Precision │   Recall │   F-measure │   G-mean │\n",
      "╞═════╪═════════════╪══════════╪═════════════╪══════════╡\n",
      "│  11 │     0.1503  │  0.00505 │     0.05713 │  0.06715 │\n",
      "├─────┼─────────────┼──────────┼─────────────┼──────────┤\n",
      "│  31 │     0.17562 │  0.01617 │     0.07425 │  0.08414 │\n",
      "├─────┼─────────────┼──────────┼─────────────┼──────────┤\n",
      "│  51 │     0.16636 │  0.01335 │     0.0634  │  0.07512 │\n",
      "├─────┼─────────────┼──────────┼─────────────┼──────────┤\n",
      "│ 101 │     0.1958  │  0.01249 │     0.07794 │  0.08982 │\n",
      "╘═════╧═════════════╧══════════╧═════════════╧══════════╛\n"
     ]
    }
   ],
   "source": [
    "data, label = preprocess.read_dataset(DS_Covid)\n",
    "label[label == -1] = 0\n",
    "data = preprocess.fill_missing_value(data=data, method=\"mode\")\n",
    "\n",
    "data = preprocess.remove_correlated_with_label_by_hellinger(\n",
    "    data=data, label=label, threshold=1\n",
    ")\n",
    "\n",
    "T = [11, 31, 51, 101]\n",
    "\n",
    "avg_metrics = np.empty((len(T), 4))\n",
    "std_metrics = np.empty((len(T), 4))\n",
    "\n",
    "print(\"bagging with base learner HDDT\")\n",
    "for i in range(len(T)):\n",
    "    model = bagging(T=T[i], base_learner=\"HDDT\")\n",
    "    avg, std = model.run_bagging(data=data, label=label, n_iteration=n_iteration)\n",
    "\n",
    "    avg_metrics[i][0] = avg[\"Avg-Precision\"]\n",
    "    avg_metrics[i][1] = avg[\"Avg-Recall\"]\n",
    "    avg_metrics[i][2] = avg[\"Avg-F-measure\"]\n",
    "    avg_metrics[i][3] = avg[\"Avg-G-mean\"]\n",
    "    std_metrics[i][0] = std[\"Std-Precision\"]\n",
    "    std_metrics[i][1] = std[\"Std-Recall\"]\n",
    "    std_metrics[i][2] = std[\"Std-F-measure\"]\n",
    "    std_metrics[i][3] = std[\"Std-G-mean\"]\n",
    "\n",
    "    \n",
    "print(\"Average metrics\")\n",
    "print(\n",
    "    tabulate(\n",
    "        avg_metrics,\n",
    "        headers=[\"Precision\", \"Recall\", \"F-measure\", \"G-mean\"],\n",
    "        showindex=T,\n",
    "        tablefmt=\"fancy_grid\",\n",
    "    )\n",
    ")\n",
    "\n",
    "print(\"Standard deviation metrics\")\n",
    "print(\n",
    "    tabulate(\n",
    "        std_metrics,\n",
    "        headers=[\"Precision\", \"Recall\", \"F-measure\", \"G-mean\"],\n",
    "        showindex=T,\n",
    "        tablefmt=\"fancy_grid\",\n",
    "    )\n",
    ")"
   ]
  },
  {
   "attachments": {},
   "cell_type": "markdown",
   "metadata": {},
   "source": [
    "With Built-in base learner"
   ]
  },
  {
   "cell_type": "code",
   "execution_count": 7,
   "metadata": {},
   "outputs": [
    {
     "name": "stdout",
     "output_type": "stream",
     "text": [
      "bagging with base learner Built-in\n",
      "T =  11\n",
      "T =  31\n",
      "T =  51\n",
      "T =  101\n",
      "Average metrics\n",
      "╒═════╤═════════════╤══════════╤═════════════╤══════════╕\n",
      "│     │   Precision │   Recall │   F-measure │   G-mean │\n",
      "╞═════╪═════════════╪══════════╪═════════════╪══════════╡\n",
      "│  11 │     0.57333 │  0.79104 │     0.66443 │  0.67325 │\n",
      "├─────┼─────────────┼──────────┼─────────────┼──────────┤\n",
      "│  31 │     0.57541 │  0.79082 │     0.66555 │  0.67427 │\n",
      "├─────┼─────────────┼──────────┼─────────────┼──────────┤\n",
      "│  51 │     0.58201 │  0.81419 │     0.67844 │  0.6882  │\n",
      "├─────┼─────────────┼──────────┼─────────────┼──────────┤\n",
      "│ 101 │     0.57507 │  0.78957 │     0.66508 │  0.67364 │\n",
      "╘═════╧═════════════╧══════════╧═════════════╧══════════╛\n",
      "Standard deviation metrics\n",
      "╒═════╤═════════════╤══════════╤═════════════╤══════════╕\n",
      "│     │   Precision │   Recall │   F-measure │   G-mean │\n",
      "╞═════╪═════════════╪══════════╪═════════════╪══════════╡\n",
      "│  11 │     0.01494 │  0.05754 │     0.03094 │  0.03356 │\n",
      "├─────┼─────────────┼──────────┼─────────────┼──────────┤\n",
      "│  31 │     0.01814 │  0.06889 │     0.0378  │  0.04062 │\n",
      "├─────┼─────────────┼──────────┼─────────────┼──────────┤\n",
      "│  51 │     0.01515 │  0.05664 │     0.03066 │  0.03323 │\n",
      "├─────┼─────────────┼──────────┼─────────────┼──────────┤\n",
      "│ 101 │     0.01701 │  0.06079 │     0.03328 │  0.03605 │\n",
      "╘═════╧═════════════╧══════════╧═════════════╧══════════╛\n"
     ]
    }
   ],
   "source": [
    "data, label = preprocess.read_dataset(DS_Covid)\n",
    "label[label == -1] = 0\n",
    "data = preprocess.fill_missing_value(data=data, method=\"mode\")\n",
    "\n",
    "data = preprocess.remove_correlated_with_label_by_hellinger(\n",
    "    data=data, label=label, threshold=1\n",
    ")\n",
    "\n",
    "T = [11, 31, 51, 101]\n",
    "\n",
    "avg_metrics = np.empty((len(T), 4))\n",
    "std_metrics = np.empty((len(T), 4))\n",
    "\n",
    "print(\"bagging with base learner Built-in\")\n",
    "for i in range(len(T)):\n",
    "    print(\"T = \", T[i])\n",
    "    model = bagging(T=T[i], base_learner=\"Built-in\")\n",
    "    avg, std = model.run_bagging(data=data, label=label, n_iteration=n_iteration)\n",
    "\n",
    "    avg_metrics[i][0] = avg[\"Avg-Precision\"]\n",
    "    avg_metrics[i][1] = avg[\"Avg-Recall\"]\n",
    "    avg_metrics[i][2] = avg[\"Avg-F-measure\"]\n",
    "    avg_metrics[i][3] = avg[\"Avg-G-mean\"]\n",
    "    std_metrics[i][0] = std[\"Std-Precision\"]\n",
    "    std_metrics[i][1] = std[\"Std-Recall\"]\n",
    "    std_metrics[i][2] = std[\"Std-F-measure\"]\n",
    "    std_metrics[i][3] = std[\"Std-G-mean\"]\n",
    "\n",
    "    \n",
    "print(\"Average metrics\")\n",
    "print(\n",
    "    tabulate(\n",
    "        avg_metrics,\n",
    "        headers=[\"Precision\", \"Recall\", \"F-measure\", \"G-mean\"],\n",
    "        showindex=T,\n",
    "        tablefmt=\"fancy_grid\",\n",
    "    )\n",
    ")\n",
    "\n",
    "print(\"Standard deviation metrics\")\n",
    "print(\n",
    "    tabulate(\n",
    "        std_metrics,\n",
    "        headers=[\"Precision\", \"Recall\", \"F-measure\", \"G-mean\"],\n",
    "        showindex=T,\n",
    "        tablefmt=\"fancy_grid\",\n",
    "    )\n",
    ")"
   ]
  },
  {
   "attachments": {},
   "cell_type": "markdown",
   "metadata": {},
   "source": [
    "## Method II: Adaboost with UnderSampling"
   ]
  },
  {
   "cell_type": "code",
   "execution_count": 9,
   "metadata": {},
   "outputs": [
    {
     "name": "stdout",
     "output_type": "stream",
     "text": [
      "Accuracy DT:\n",
      "[0.54206 0.54167 0.54186 0.54186]\n",
      "\n",
      "Accuracy My AdaBoost:\n",
      "[0.55947 0.55833 0.5589  0.5589 ]\n",
      "\n",
      "Accuracy Built-in AdaBoost:\n",
      "[0.5991  0.59667 0.59788 0.59788]\n",
      "\n"
     ]
    }
   ],
   "source": [
    "data, label = preprocess.read_dataset(DS_Covid)\n",
    "label[label == -1] = 0\n",
    "data = preprocess.fill_missing_value(data=data, method=\"mode\")\n",
    "\n",
    "data = preprocess.remove_correlated_with_label_by_hellinger(\n",
    "    data=data, label=label, threshold=1\n",
    ")\n",
    "\n",
    "# balance imbalance data with under_sampling\n",
    "data, label = preprocess.bootstrap_with_under_sampling(data, label)\n",
    "\n",
    "\n",
    "acc_DT = np.empty((0, 4))\n",
    "acc_my_adaboost = np.empty((0, 4))\n",
    "acc_biultin_adaboost = np.empty((0, 4))\n",
    "\n",
    "for _ in range(n_iteration):\n",
    "    # Split train and test\n",
    "    data_train, data_test, label_train, label_test = train_test_split(\n",
    "        data, label, test_size=0.3, stratify=label\n",
    "    )\n",
    "\n",
    "    clf = DecisionTreeClassifier()\n",
    "    clf.fit(data_train, label_train)\n",
    "    predicted = clf.predict(data_test)\n",
    "    acc = preprocess.accuracy(predicted, label_test)\n",
    "    acc_DT = np.vstack((acc_DT, acc))\n",
    "\n",
    "    model = adaboost(11)\n",
    "    model.fit(data_train, label_train)\n",
    "    predicted = model.predict(data_test)\n",
    "    acc = preprocess.accuracy(predicted, label_test)\n",
    "    acc_my_adaboost = np.vstack((acc_my_adaboost, acc))\n",
    "\n",
    "    clf = AdaBoostClassifier()\n",
    "    clf.fit(data_train, label_train)\n",
    "    predicted = clf.predict(data_test)\n",
    "    acc = preprocess.accuracy(predicted, label_test)\n",
    "    acc_biultin_adaboost = np.vstack((acc_biultin_adaboost, acc))\n",
    "\n",
    "acc_DT = np.mean(acc_DT, axis=0).round(5)\n",
    "print(f\"Accuracy DT:\\n{acc_DT}\\n\")\n",
    "\n",
    "acc_my_adaboost = np.mean(acc_my_adaboost, axis=0).round(5)\n",
    "print(f\"Accuracy My AdaBoost:\\n{acc_my_adaboost}\\n\")\n",
    "\n",
    "acc_biultin_adaboost = np.mean(acc_biultin_adaboost, axis=0).round(5)\n",
    "print(f\"Accuracy Built-in AdaBoost:\\n{acc_biultin_adaboost}\\n\")\n"
   ]
  }
 ],
 "metadata": {
  "kernelspec": {
   "display_name": "venv",
   "language": "python",
   "name": "python3"
  },
  "language_info": {
   "codemirror_mode": {
    "name": "ipython",
    "version": 3
   },
   "file_extension": ".py",
   "mimetype": "text/x-python",
   "name": "python",
   "nbconvert_exporter": "python",
   "pygments_lexer": "ipython3",
   "version": "3.9.6"
  },
  "orig_nbformat": 4
 },
 "nbformat": 4,
 "nbformat_minor": 2
}
